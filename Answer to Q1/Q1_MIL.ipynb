{
 "cells": [
  {
   "cell_type": "code",
   "execution_count": 1,
   "metadata": {},
   "outputs": [],
   "source": [
    "import numpy as np\n",
    "from sklearn import svm\n",
    "import torchvision\n",
    "import torch\n",
    "import torch.nn as nn \n",
    "import torch.optim as optim\n",
    "import torch.functional as F\n",
    "import torchvision.models as pretrained_models\n",
    "import random\n",
    "import struct"
   ]
  },
  {
   "cell_type": "code",
   "execution_count": 2,
   "metadata": {},
   "outputs": [],
   "source": [
    "def ids_by_label(ids, labels_list, target, labels_set, shuffle):\n",
    "    if not isinstance(shuffle,bool):\n",
    "        raise TypeError(\"shuffle should be a bool\")\n",
    "    pairs = list(zip(ids,labels_list))\n",
    "    if labels_set != 'all':\n",
    "        pairs = [(_id, label) for _id,label in pairs if label.item() in labels_set]\n",
    "    if shuffle:\n",
    "        random.shuffle(pairs)\n",
    "        \n",
    "    return [_id for _id,_label in pairs if _label.item()==target], [_id for _id,_label in pairs if _label.item()!=target]"
   ]
  },
  {
   "cell_type": "code",
   "execution_count": 3,
   "metadata": {},
   "outputs": [],
   "source": [
    "def check_if_target(indices, labels, target):\n",
    "    for idx in indices:\n",
    "        if labels[idx].item() == target:\n",
    "            return True \n",
    "    return False"
   ]
  },
  {
   "cell_type": "code",
   "execution_count": 4,
   "metadata": {},
   "outputs": [],
   "source": [
    "def make_bags(target_ids, non_target_ids, labels, bag_size, num_bags, prob, target):\n",
    "    full_list = target_ids + non_target_ids \n",
    "    for _ in range(num_bags):\n",
    "        random.shuffle(full_list)\n",
    "        random.shuffle(non_target_ids)\n",
    "        toss = np.random.rand()\n",
    "        if toss <= prob:\n",
    "            random.shuffle(target_ids)\n",
    "            rest = full_list[:bag_size-1]\n",
    "            rest.append(target_ids[0])\n",
    "            assert check_if_target(rest, labels, target) \n",
    "            yield rest, [1]\n",
    "        else:\n",
    "            rest = non_target_ids[:bag_size]\n",
    "            assert not check_if_target(rest,labels,target) \n",
    "            yield rest, [0]"
   ]
  },
  {
   "cell_type": "code",
   "execution_count": 5,
   "metadata": {},
   "outputs": [],
   "source": [
    "def get_instance(indices,images):\n",
    "    instance_set = []\n",
    "    for idx in indices:\n",
    "        instance_set.append(images[idx])\n",
    "\n",
    "    instance_set = torch.stack(instance_set,dim=0)\n",
    "    \n",
    "    return instance_set"
   ]
  },
  {
   "cell_type": "code",
   "execution_count": 6,
   "metadata": {},
   "outputs": [
    {
     "name": "stdout",
     "output_type": "stream",
     "text": [
      "100\n",
      "1\n",
      "100\n"
     ]
    }
   ],
   "source": [
    "if __name__ == '__main__':\n",
    "    mnist = torchvision.datasets.MNIST(root='',download=True)\n",
    "    images = mnist.data #shape = (60000,28,28)\n",
    "    labels = mnist.targets #shape = (60000)\n",
    "    ids = np.arange(len(labels))\n",
    "\n",
    "    BAG_SIZE = 100\n",
    "    PROB = 1\n",
    "    NUM_BAGS = 600\n",
    "    TARGET = 0 or 7\n",
    "\n",
    "    target_ids, non_target_ids = ids_by_label(ids, labels, 0 or 7,'all', True)\n",
    "\n",
    "    new_bag = make_bags(target_ids, non_target_ids, labels, BAG_SIZE, NUM_BAGS, PROB, TARGET)\n",
    "    sample_bag, sample_label = next(new_bag)\n",
    "    instance_set = get_instance(sample_bag,images)\n",
    "    print(instance_set)"
   ]
  },
  {
   "cell_type": "code",
   "execution_count": null,
   "metadata": {},
   "outputs": [],
   "source": []
  }
 ],
 "metadata": {
  "kernelspec": {
   "display_name": "Python 3",
   "language": "python",
   "name": "python3"
  },
  "language_info": {
   "codemirror_mode": {
    "name": "ipython",
    "version": 3
   },
   "file_extension": ".py",
   "mimetype": "text/x-python",
   "name": "python",
   "nbconvert_exporter": "python",
   "pygments_lexer": "ipython3",
   "version": "3.7.6"
  }
 },
 "nbformat": 4,
 "nbformat_minor": 4
}
