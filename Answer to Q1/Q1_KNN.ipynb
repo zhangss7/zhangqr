{
 "cells": [
  {
   "cell_type": "code",
   "execution_count": 1,
   "metadata": {},
   "outputs": [],
   "source": [
    "from numpy import *\n",
    "import operator\n",
    "import os\n",
    "import numpy as np\n",
    "import time\n",
    "from scipy.special import expit\n",
    "import matplotlib.pyplot as plt\n",
    "from matplotlib import cm\n",
    "from os import listdir\n",
    "from mpl_toolkits.mplot3d import Axes3D\n",
    "import struct\n",
    "import math\n",
    "import torchvision\n",
    "import torch\n",
    "from sklearn.metrics import euclidean_distances\n",
    "from sklearn.neighbors import KNeighborsRegressor"
   ]
  },
  {
   "cell_type": "code",
   "execution_count": 2,
   "metadata": {},
   "outputs": [],
   "source": [
    "#读取图片\n",
    "def read_image(file_name):\n",
    "    #先用二进制方式把文件都读进来\n",
    "    file_handle=open(file_name,\"rb\")  #以二进制打开文档\n",
    "    file_content=file_handle.read()   #读取到缓冲区中\n",
    "    offset=0\n",
    "    head = struct.unpack_from('>IIII', file_content, offset)  # 取前4个整数，返回一个元组\n",
    "    offset += struct.calcsize('>IIII')\n",
    "    imgNum = head[1]  #图片数\n",
    "    rows = head[2]   #宽度\n",
    "    cols = head[3]  #高度\n",
    "\n",
    "    images=np.empty((imgNum , 784))#empty，是它所常见的数组内的所有元素均为空，没有实际意义，它是创建数组最快的方法\n",
    "    image_size=rows*cols#单个图片的大小\n",
    "    fmt='>' + str(image_size) + 'B'#单个图片的format\n",
    "\n",
    "    for i in range(imgNum):\n",
    "        images[i] = np.array(struct.unpack_from(fmt, file_content, offset))\n",
    "        # images[i] = np.array(struct.unpack_from(fmt, file_content, offset)).reshape((rows, cols))\n",
    "        offset += struct.calcsize(fmt)\n",
    "    return images"
   ]
  },
  {
   "cell_type": "code",
   "execution_count": 3,
   "metadata": {},
   "outputs": [],
   "source": [
    "#读取标签\n",
    "def read_label(file_name):\n",
    "    file_handle = open(file_name, \"rb\")  # 以二进制打开文档\n",
    "    file_content = file_handle.read()  # 读取到缓冲区中\n",
    "\n",
    "    head = struct.unpack_from('>II', file_content, 0)  # 取前2个整数，返回一个元组\n",
    "    offset = struct.calcsize('>II')\n",
    "\n",
    "    labelNum = head[1]  # label数\n",
    "    # print(labelNum)\n",
    "    bitsString = '>' + str(labelNum) + 'B'  # fmt格式：'>47040000B'\n",
    "    label = struct.unpack_from(bitsString, file_content, offset)  # 取data数据，返回一个元组\n",
    "    return np.array(label)"
   ]
  },
  {
   "cell_type": "code",
   "execution_count": 4,
   "metadata": {},
   "outputs": [],
   "source": [
    "def loadDataSet():\n",
    "    train_x=read_image(\"/Users/qiqi/Desktop/MNIST/train-images.idx3-ubyte\")\n",
    "    train_y=read_label(\"/Users/qiqi/Desktop/MNIST/train-labels.idx1-ubyte\")\n",
    "    test_x=read_image(\"/Users/qiqi/Desktop/MNIST/t10k-images.idx3-ubyte\")\n",
    "    test_y=read_label(\"/Users/qiqi/Desktop/MNIST/t10k-labels.idx1-ubyte\")\n",
    "\n",
    "    return train_x, test_x, train_y, test_y"
   ]
  },
  {
   "cell_type": "code",
   "execution_count": 5,
   "metadata": {},
   "outputs": [],
   "source": [
    "train_x, test_x, train_y, test_y=loadDataSet()"
   ]
  },
  {
   "cell_type": "code",
   "execution_count": 9,
   "metadata": {},
   "outputs": [
    {
     "data": {
      "text/plain": [
       "array([[0., 0., 0., ..., 0., 0., 0.],\n",
       "       [0., 0., 0., ..., 0., 0., 0.],\n",
       "       [0., 0., 0., ..., 0., 0., 0.],\n",
       "       ...,\n",
       "       [0., 0., 0., ..., 0., 0., 0.],\n",
       "       [0., 0., 0., ..., 0., 0., 0.],\n",
       "       [0., 0., 0., ..., 0., 0., 0.]])"
      ]
     },
     "execution_count": 9,
     "metadata": {},
     "output_type": "execute_result"
    }
   ],
   "source": [
    "test_x"
   ]
  },
  {
   "cell_type": "code",
   "execution_count": 6,
   "metadata": {},
   "outputs": [
    {
     "data": {
      "image/png": "[encoded data removed]",
      "text/plain": [
       "<Figure size 432x288 with 10 Axes>"
      ]
     },
     "metadata": {},
     "output_type": "display_data"
    }
   ],
   "source": [
    "fig, ax = plt.subplots(\n",
    "    nrows=2,\n",
    "    ncols=5,\n",
    "    sharex=True,\n",
    "    sharey=True, )\n",
    "\n",
    "ax = ax.flatten()\n",
    "for i in range(10):\n",
    "    img = train_x[train_y == i][0].reshape(28, 28)\n",
    "    ax[i].imshow(img, cmap='Greys', interpolation='nearest')\n",
    "\n",
    "ax[0].set_xticks([])\n",
    "ax[0].set_yticks([])\n",
    "plt.tight_layout()\n",
    "plt.show()\n",
    "#plt.savefig('/Users/qiqi/Desktop/MNIST/1.png')"
   ]
  },
  {
   "cell_type": "code",
   "execution_count": 7,
   "metadata": {},
   "outputs": [
    {
     "data": {
      "image/png": "[encoded data removed]",
      "text/plain": [
       "<Figure size 432x288 with 25 Axes>"
      ]
     },
     "metadata": {},
     "output_type": "display_data"
    }
   ],
   "source": [
    "fig, ax = plt.subplots(\n",
    "    nrows=5,\n",
    "    ncols=5,\n",
    "    sharex=True,\n",
    "    sharey=True, )\n",
    "\n",
    "ax = ax.flatten()\n",
    "for i in range(25):\n",
    "    img = train_x[train_y == 7][i].reshape(28, 28)\n",
    "    ax[i].imshow(img, cmap='Greys', interpolation='nearest')\n",
    "\n",
    "ax[0].set_xticks([])\n",
    "ax[0].set_yticks([])\n",
    "plt.tight_layout()\n",
    "plt.show()\n",
    "#plt.savefig('/Users/qiqi/Desktop/MNIST/2.png')"
   ]
  },
  {
   "cell_type": "code",
   "execution_count": 13,
   "metadata": {},
   "outputs": [
    {
     "name": "stdout",
     "output_type": "stream",
     "text": [
      "Test set predictions:\n",
      "[7. 2. 1. ... 4. 5. 6.]\n",
      "Test set R^2:0.95\n"
     ]
    }
   ],
   "source": [
    "# 构建模型并训练\n",
    "reg = KNeighborsRegressor(n_neighbors=3)\n",
    "reg.fit(train_x, train_y)\n",
    "\n",
    "# 模型预测\n",
    "print(\"Test set predictions:\\n{}\".format(reg.predict(test_x)))\n",
    "print(\"Test set R^2:{:.2f}\".format(reg.score(test_x, test_y)))"
   ]
  }
 ],
 "metadata": {
  "kernelspec": {
   "display_name": "Python 3",
   "language": "python",
   "name": "python3"
  },
  "language_info": {
   "codemirror_mode": {
    "name": "ipython",
    "version": 3
   },
   "file_extension": ".py",
   "mimetype": "text/x-python",
   "name": "python",
   "nbconvert_exporter": "python",
   "pygments_lexer": "ipython3",
   "version": "3.7.6"
  }
 },
 "nbformat": 4,
 "nbformat_minor": 4
}
